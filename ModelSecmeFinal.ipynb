{
 "cells": [
  {
   "cell_type": "markdown",
   "metadata": {},
   "source": [
    "4. VERİ ÖNİŞLEME"
   ]
  },
  {
   "cell_type": "code",
   "execution_count": 1,
   "metadata": {},
   "outputs": [],
   "source": [
    "import pandas as pd\n",
    "import numpy as np\n",
    "import seaborn as sns\n",
    "import matplotlib.pyplot as plt \n",
    "import sklearn as sk"
   ]
  },
  {
   "cell_type": "code",
   "execution_count": 2,
   "metadata": {},
   "outputs": [],
   "source": [
    "data_orj=pd.read_csv('insurance.csv')\n",
    "df= data_orj.copy()"
   ]
  },
  {
   "cell_type": "code",
   "execution_count": 3,
   "metadata": {},
   "outputs": [],
   "source": [
    "from sklearn.preprocessing import LabelEncoder\n",
    "label_encoder=LabelEncoder()\n",
    "\n",
    "df['smoker'] = label_encoder.fit_transform(df['smoker']) \n",
    "df['region']=label_encoder.fit_transform(df['region'])\n",
    "df['sex']=label_encoder.fit_transform(df['sex'])"
   ]
  },
  {
   "cell_type": "code",
   "execution_count": 4,
   "metadata": {},
   "outputs": [
    {
     "data": {
      "text/plain": [
       "charges     1.000000\n",
       "smoker      0.787251\n",
       "age         0.299008\n",
       "bmi         0.198341\n",
       "children    0.067998\n",
       "sex         0.057292\n",
       "region     -0.006208\n",
       "Name: charges, dtype: float64"
      ]
     },
     "execution_count": 4,
     "metadata": {},
     "output_type": "execute_result"
    }
   ],
   "source": [
    "df.corr()['charges'].sort_values(ascending=False)"
   ]
  },
  {
   "cell_type": "markdown",
   "metadata": {},
   "source": [
    "Charges ile korelasyonu 0.2 den düşük olan değişkenleri almadan regresyon modellerini oluşturabiliriz  "
   ]
  },
  {
   "cell_type": "code",
   "execution_count": 5,
   "metadata": {},
   "outputs": [
    {
     "data": {
      "text/html": [
       "<div>\n",
       "<style scoped>\n",
       "    .dataframe tbody tr th:only-of-type {\n",
       "        vertical-align: middle;\n",
       "    }\n",
       "\n",
       "    .dataframe tbody tr th {\n",
       "        vertical-align: top;\n",
       "    }\n",
       "\n",
       "    .dataframe thead th {\n",
       "        text-align: right;\n",
       "    }\n",
       "</style>\n",
       "<table border=\"1\" class=\"dataframe\">\n",
       "  <thead>\n",
       "    <tr style=\"text-align: right;\">\n",
       "      <th></th>\n",
       "      <th>age</th>\n",
       "      <th>smoker</th>\n",
       "      <th>bmi</th>\n",
       "      <th>charges</th>\n",
       "    </tr>\n",
       "  </thead>\n",
       "  <tbody>\n",
       "    <tr>\n",
       "      <th>0</th>\n",
       "      <td>19</td>\n",
       "      <td>1</td>\n",
       "      <td>27.900</td>\n",
       "      <td>16884.92400</td>\n",
       "    </tr>\n",
       "    <tr>\n",
       "      <th>1</th>\n",
       "      <td>18</td>\n",
       "      <td>0</td>\n",
       "      <td>33.770</td>\n",
       "      <td>1725.55230</td>\n",
       "    </tr>\n",
       "    <tr>\n",
       "      <th>2</th>\n",
       "      <td>28</td>\n",
       "      <td>0</td>\n",
       "      <td>33.000</td>\n",
       "      <td>4449.46200</td>\n",
       "    </tr>\n",
       "    <tr>\n",
       "      <th>3</th>\n",
       "      <td>33</td>\n",
       "      <td>0</td>\n",
       "      <td>22.705</td>\n",
       "      <td>21984.47061</td>\n",
       "    </tr>\n",
       "    <tr>\n",
       "      <th>4</th>\n",
       "      <td>32</td>\n",
       "      <td>0</td>\n",
       "      <td>28.880</td>\n",
       "      <td>3866.85520</td>\n",
       "    </tr>\n",
       "    <tr>\n",
       "      <th>...</th>\n",
       "      <td>...</td>\n",
       "      <td>...</td>\n",
       "      <td>...</td>\n",
       "      <td>...</td>\n",
       "    </tr>\n",
       "    <tr>\n",
       "      <th>1333</th>\n",
       "      <td>50</td>\n",
       "      <td>0</td>\n",
       "      <td>30.970</td>\n",
       "      <td>10600.54830</td>\n",
       "    </tr>\n",
       "    <tr>\n",
       "      <th>1334</th>\n",
       "      <td>18</td>\n",
       "      <td>0</td>\n",
       "      <td>31.920</td>\n",
       "      <td>2205.98080</td>\n",
       "    </tr>\n",
       "    <tr>\n",
       "      <th>1335</th>\n",
       "      <td>18</td>\n",
       "      <td>0</td>\n",
       "      <td>36.850</td>\n",
       "      <td>1629.83350</td>\n",
       "    </tr>\n",
       "    <tr>\n",
       "      <th>1336</th>\n",
       "      <td>21</td>\n",
       "      <td>0</td>\n",
       "      <td>25.800</td>\n",
       "      <td>2007.94500</td>\n",
       "    </tr>\n",
       "    <tr>\n",
       "      <th>1337</th>\n",
       "      <td>61</td>\n",
       "      <td>1</td>\n",
       "      <td>29.070</td>\n",
       "      <td>29141.36030</td>\n",
       "    </tr>\n",
       "  </tbody>\n",
       "</table>\n",
       "<p>1338 rows × 4 columns</p>\n",
       "</div>"
      ],
      "text/plain": [
       "      age  smoker     bmi      charges\n",
       "0      19       1  27.900  16884.92400\n",
       "1      18       0  33.770   1725.55230\n",
       "2      28       0  33.000   4449.46200\n",
       "3      33       0  22.705  21984.47061\n",
       "4      32       0  28.880   3866.85520\n",
       "...   ...     ...     ...          ...\n",
       "1333   50       0  30.970  10600.54830\n",
       "1334   18       0  31.920   2205.98080\n",
       "1335   18       0  36.850   1629.83350\n",
       "1336   21       0  25.800   2007.94500\n",
       "1337   61       1  29.070  29141.36030\n",
       "\n",
       "[1338 rows x 4 columns]"
      ]
     },
     "execution_count": 5,
     "metadata": {},
     "output_type": "execute_result"
    }
   ],
   "source": [
    "df_new=df[['age','smoker','bmi','charges']]\n",
    "df_new"
   ]
  },
  {
   "cell_type": "markdown",
   "metadata": {},
   "source": [
    "Veriyi normalize ediyoruz"
   ]
  },
  {
   "cell_type": "code",
   "execution_count": 6,
   "metadata": {},
   "outputs": [
    {
     "name": "stdout",
     "output_type": "stream",
     "text": [
      "           age  smoker       bmi   charges\n",
      "0     0.021739     1.0  0.321227  0.251611\n",
      "1     0.000000     0.0  0.479150  0.009636\n",
      "2     0.217391     0.0  0.458434  0.053115\n",
      "3     0.326087     0.0  0.181464  0.333010\n",
      "4     0.304348     0.0  0.347592  0.043816\n",
      "...        ...     ...       ...       ...\n",
      "1333  0.695652     0.0  0.403820  0.151299\n",
      "1334  0.000000     0.0  0.429379  0.017305\n",
      "1335  0.000000     0.0  0.562012  0.008108\n",
      "1336  0.065217     0.0  0.264730  0.014144\n",
      "1337  0.934783     1.0  0.352704  0.447249\n",
      "\n",
      "[1338 rows x 4 columns]\n"
     ]
    }
   ],
   "source": [
    "from sklearn.preprocessing import MinMaxScaler\n",
    "\n",
    "scaler = MinMaxScaler()\n",
    "normalized_data = scaler.fit_transform(df_new)\n",
    "\n",
    "normalized_df_new = pd.DataFrame(normalized_data, columns=df_new.columns)\n",
    "\n",
    "print(normalized_df_new)"
   ]
  },
  {
   "cell_type": "code",
   "execution_count": 7,
   "metadata": {},
   "outputs": [],
   "source": [
    "#veriyi %70 eğitim, % 30 test olacak şekilde bölüyoruz\n",
    "from sklearn.model_selection import train_test_split\n",
    "train, test = train_test_split(normalized_df_new, test_size=0.3,random_state = 17) "
   ]
  },
  {
   "cell_type": "code",
   "execution_count": 8,
   "metadata": {},
   "outputs": [],
   "source": [
    "# label 'charges' olacak şekilde veriyi ayrıştırıyoruz\n",
    "X_train = train.drop(\"charges\",axis=1)\n",
    "y_train = train.loc[:,\"charges\"]\n",
    "\n",
    "X_test = test.drop(\"charges\",axis=1)\n",
    "y_test = test.loc[:,\"charges\"]"
   ]
  },
  {
   "cell_type": "markdown",
   "metadata": {},
   "source": [
    "5. MODEL SEÇME"
   ]
  },
  {
   "cell_type": "code",
   "execution_count": 9,
   "metadata": {},
   "outputs": [],
   "source": [
    "from sklearn.linear_model import LinearRegression\n",
    "from sklearn.metrics import mean_squared_error\n",
    "from sklearn.model_selection import cross_val_score\n",
    "from sklearn.tree import DecisionTreeRegressor\n",
    "from sklearn.svm import SVR\n",
    "from sklearn.ensemble import RandomForestRegressor\n",
    "from sklearn.preprocessing import PolynomialFeatures"
   ]
  },
  {
   "cell_type": "code",
   "execution_count": null,
   "metadata": {},
   "outputs": [],
   "source": []
  },
  {
   "cell_type": "code",
   "execution_count": 10,
   "metadata": {},
   "outputs": [
    {
     "name": "stdout",
     "output_type": "stream",
     "text": [
      "0.70 accuracy with a standard deviation of 0.13\n"
     ]
    }
   ],
   "source": [
    "linear_reg = LinearRegression()\n",
    "linear_reg.fit(X_train,y_train)\n",
    "linear_reg_pred = linear_reg.predict(X_test)\n",
    "scores=cross_val_score(linear_reg,X_test,y_test,cv=10)\n",
    "print(\"%0.2f accuracy with a standard deviation of %0.2f\" % (scores.mean(), scores.std()))\n"
   ]
  },
  {
   "cell_type": "markdown",
   "metadata": {},
   "source": [
    "Polynomial Regresssion"
   ]
  },
  {
   "cell_type": "code",
   "execution_count": 11,
   "metadata": {},
   "outputs": [
    {
     "name": "stdout",
     "output_type": "stream",
     "text": [
      "0.82 doğruluk (accuracy) ve standart sapması  0.11\n"
     ]
    }
   ],
   "source": [
    "#from sklearn.preprocessing import PolynomialFeatures\n",
    "poly_reg = PolynomialFeatures(degree=3)\n",
    "# Belirlenen dereceye göre bağımsız değişkenler hazırlanır\n",
    "poly_train = poly_reg.fit_transform(X_train)\n",
    "poly_test =poly_reg.fit_transform(X_test)\n",
    "\n",
    "L_regression = LinearRegression()\n",
    "\n",
    "model = L_regression.fit(poly_train, y_train)\n",
    "\n",
    "scores=cross_val_score(model,poly_test,y_test,cv=10)\n",
    "print(\"%0.2f doğruluk (accuracy) ve standart sapması  %0.2f\" % (scores.mean(), scores.std()))"
   ]
  },
  {
   "cell_type": "markdown",
   "metadata": {},
   "source": [
    "Supprt Vector Regression"
   ]
  },
  {
   "cell_type": "code",
   "execution_count": 12,
   "metadata": {},
   "outputs": [
    {
     "name": "stdout",
     "output_type": "stream",
     "text": [
      "0.67 doğruluk (accuracy) ve standart sapması  0.13\n"
     ]
    }
   ],
   "source": [
    "svr_regressor = SVR(kernel = 'rbf')\n",
    "svr_regressor.fit(X_train, y_train)\n",
    "scores=cross_val_score(svr_regressor , X_test, y_test, cv=10)\n",
    "print(\"%0.2f doğruluk (accuracy) ve standart sapması  %0.2f\" % (scores.mean(), scores.std()))"
   ]
  },
  {
   "cell_type": "markdown",
   "metadata": {},
   "source": [
    "Decison tree Regression"
   ]
  },
  {
   "cell_type": "code",
   "execution_count": 24,
   "metadata": {},
   "outputs": [
    {
     "name": "stdout",
     "output_type": "stream",
     "text": [
      "0.84 doğruluk (accuracy) ve standart sapması 0.10\n"
     ]
    }
   ],
   "source": [
    "dec_tree_reg=DecisionTreeRegressor(max_depth=3)\n",
    "dec_tree_reg.fit(X_train,y_train)\n",
    "scores=cross_val_score(dec_tree_reg, X_test, y_test, cv=10)\n",
    "print(\"%0.2f doğruluk (accuracy) ve standart sapması %0.2f\" % (scores.mean(), scores.std()))"
   ]
  },
  {
   "cell_type": "markdown",
   "metadata": {},
   "source": [
    "Random Forest Regressor"
   ]
  },
  {
   "cell_type": "code",
   "execution_count": 14,
   "metadata": {},
   "outputs": [
    {
     "name": "stdout",
     "output_type": "stream",
     "text": [
      "0.78 doğruluk (accuracy) ve standart sapması 0.11\n"
     ]
    }
   ],
   "source": [
    "rr_regressor = RandomForestRegressor(n_estimators = 10)\n",
    "rr_regressor.fit(X_train, y_train)\n",
    "scores=cross_val_score(rr_regressor , X_test, y_test, cv=10)\n",
    "print(\"%0.2f doğruluk (accuracy) ve standart sapması %0.2f\" % (scores.mean(), scores.std()))"
   ]
  },
  {
   "cell_type": "code",
   "execution_count": null,
   "metadata": {},
   "outputs": [],
   "source": [
    "GradientBoostingRegressor"
   ]
  },
  {
   "cell_type": "code",
   "execution_count": 15,
   "metadata": {},
   "outputs": [
    {
     "name": "stdout",
     "output_type": "stream",
     "text": [
      "0.81 doğruluk (accuracy) ve standart sapması 0.10\n"
     ]
    }
   ],
   "source": [
    "from sklearn.ensemble import GradientBoostingRegressor\n",
    "\n",
    "gb_regressor = GradientBoostingRegressor()\n",
    "gb_regressor.fit(X_train, y_train)\n",
    "scores=cross_val_score(gb_regressor , X_test, y_test, cv=10)\n",
    "print(\"%0.2f doğruluk (accuracy) ve standart sapması %0.2f\" % (scores.mean(), scores.std()))"
   ]
  },
  {
   "cell_type": "markdown",
   "metadata": {},
   "source": [
    "Decision Tree Regressor 0.84 doğruluk (accuracy) ve standart sapması  0.10 ile en iyi sonucu verdi"
   ]
  },
  {
   "cell_type": "markdown",
   "metadata": {},
   "source": [
    "6. HİPER-PARAMETRE OPTIMIZASYONU"
   ]
  },
  {
   "cell_type": "code",
   "execution_count": 29,
   "metadata": {},
   "outputs": [
    {
     "name": "stdout",
     "output_type": "stream",
     "text": [
      " max_depth = 1, 0.52 doğruluk (accuracy) ve standart sapması  0.14\n",
      " max_depth = 1, 0.80 doğruluk (accuracy) ve standart sapması  0.08\n",
      " max_depth = 1, 0.84 doğruluk (accuracy) ve standart sapması  0.10\n",
      " max_depth = 1, 0.82 doğruluk (accuracy) ve standart sapması  0.09\n"
     ]
    }
   ],
   "source": [
    "# max_depthin  Decision-Tree Regresyona etkisi\n",
    "for i in range(1,5):\n",
    "    dec_tree_reg=DecisionTreeRegressor(max_depth=i)\n",
    "    dec_tree_reg.fit(X_train,y_train)\n",
    "    scores=cross_val_score(dec_tree_reg, X_test, y_test, cv=10)\n",
    "    print(\" max_depth = %d, %0.2f doğruluk (accuracy) ve standart sapması  %0.2f\" % (max_depth,scores.mean(), scores.std()))"
   ]
  },
  {
   "cell_type": "markdown",
   "metadata": {},
   "source": [
    "Gridsearch ile optimizasyon"
   ]
  },
  {
   "cell_type": "code",
   "execution_count": 38,
   "metadata": {},
   "outputs": [
    {
     "data": {
      "text/plain": [
       "dict_keys(['ccp_alpha', 'criterion', 'max_depth', 'max_features', 'max_leaf_nodes', 'min_impurity_decrease', 'min_impurity_split', 'min_samples_leaf', 'min_samples_split', 'min_weight_fraction_leaf', 'presort', 'random_state', 'splitter'])"
      ]
     },
     "execution_count": 38,
     "metadata": {},
     "output_type": "execute_result"
    }
   ],
   "source": [
    "reg=DecisionTreeRegressor()\n",
    "params=reg.get_params().keys()\n",
    "params"
   ]
  },
  {
   "cell_type": "code",
   "execution_count": 47,
   "metadata": {},
   "outputs": [
    {
     "name": "stdout",
     "output_type": "stream",
     "text": [
      "{'criterion': 'mse', 'max_depth': 6, 'max_leaf_nodes': 20, 'min_samples_leaf': 20, 'min_samples_split': 10}\n",
      "Test accuracy: 0.860\n"
     ]
    }
   ],
   "source": [
    "from sklearn.model_selection import GridSearchCV\n",
    "dtm = DecisionTreeRegressor(max_depth=4,\n",
    "                           min_samples_split=5,\n",
    "                           max_leaf_nodes=10)\n",
    "\n",
    "dtm.fit(X_train,y_train)\n",
    "param_grid = {\"criterion\": [\"mse\", \"mae\"],\n",
    "              \"min_samples_split\": [10, 20, 40],\n",
    "              \"max_depth\": [2, 6, 8],\n",
    "              \"min_samples_leaf\": [20, 40, 100],\n",
    "              \"max_leaf_nodes\": [5, 20, 100],\n",
    "              }\n",
    "\n",
    "## Comment in order to publish in kaggle.\n",
    "\n",
    "grid_cv_dtm = GridSearchCV(dtm, param_grid, cv=10)\n",
    "\n",
    "grid_cv_dtm.fit(X_train,y_train)\n",
    "\n",
    "print(grid_cv_dtm.best_params_)\n",
    "\n",
    "bestDTR = grid_cv_dtm.best_estimator_\n",
    "print('Test accuracy: %.3f' % bestDTR.score(X_test, y_test))\n",
    "\n"
   ]
  },
  {
   "cell_type": "markdown",
   "metadata": {},
   "source": [
    "7. MODELİ DEĞERLENDİRME"
   ]
  },
  {
   "cell_type": "code",
   "execution_count": 48,
   "metadata": {},
   "outputs": [
    {
     "name": "stdout",
     "output_type": "stream",
     "text": [
      " Mean Squared Error: 0.004335161854851345\n",
      " Mean absolute Error: 0.040288847916336634\n"
     ]
    }
   ],
   "source": [
    "from sklearn.metrics import mean_squared_error\n",
    "from sklearn.metrics import mean_absolute_error\n",
    "\n",
    "dec_tree_reg=DecisionTreeRegressor(max_depth=6, max_leaf_nodes= 20,min_samples_leaf=20,min_samples_split=10)\n",
    "dec_tree_reg.fit(X_train,y_train)\n",
    "y_pred=dec_tree_reg.predict(X_test)\n",
    "\n",
    "mse=mean_squared_error(y_test,y_pred)\n",
    "print(\" Mean Squared Error:\" ,mse)\n",
    "\n",
    "mae=mean_absolute_error(y_test,y_pred)\n",
    "print(\" Mean absolute Error:\" ,mae)\n",
    "\n"
   ]
  }
 ],
 "metadata": {
  "kernelspec": {
   "display_name": "Python 3",
   "language": "python",
   "name": "python3"
  },
  "language_info": {
   "codemirror_mode": {
    "name": "ipython",
    "version": 3
   },
   "file_extension": ".py",
   "mimetype": "text/x-python",
   "name": "python",
   "nbconvert_exporter": "python",
   "pygments_lexer": "ipython3",
   "version": "3.8.3"
  }
 },
 "nbformat": 4,
 "nbformat_minor": 4
}
